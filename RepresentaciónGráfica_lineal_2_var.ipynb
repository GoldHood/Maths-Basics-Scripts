{
 "cells": [
  {
   "cell_type": "code",
   "id": "initial_id",
   "metadata": {
    "collapsed": true,
    "ExecuteTime": {
     "end_time": "2024-12-02T04:13:58.865554Z",
     "start_time": "2024-12-02T04:13:54.076899Z"
    }
   },
   "source": [
    "# 🌐✨-------------------------------------------------------------\n",
    "# 📜 SCRIPT: Resolución_Geométrica.py\n",
    "# 👤 AUTOR: Martín Verastegui\n",
    "# 📅 FECHA: 2024-12-01\n",
    "# 📝 DESCRIPCIÓN:\n",
    "#   📊 Este script permite graficar y resolver sistemas de\n",
    "#   ecuaciones lineales con dos variables. Los usuarios\n",
    "#   pueden ingresar los coeficientes de las ecuaciones y\n",
    "#   visualizar la solución en un gráfico, mostrando el\n",
    "#   punto de intersección si existe, o informando si hay\n",
    "#   infinitas soluciones o ninguna.\n",
    "#\n",
    "# 🔗 REPOSITORIO:\n",
    "#   GitHub: https://github.com/goldhood\n",
    "# 🌐✨-------------------------------------------------------------\n",
    "\n",
    "import numpy as np\n",
    "import matplotlib.pyplot as plt\n",
    "import sympy as sp\n",
    "import ipywidgets as widgets\n",
    "from IPython.display import display, clear_output\n",
    "\n",
    "# Crear widgets para la interfaz mejorada\n",
    "# Ecuación 1\n",
    "coef1_x = widgets.FloatText(value=2, description='', layout=widgets.Layout(width='80px'))\n",
    "coef1_y = widgets.FloatText(value=-1, description='', layout=widgets.Layout(width='80px'))\n",
    "const1 = widgets.FloatText(value=-8, description='', layout=widgets.Layout(width='80px'))\n",
    "\n",
    "# Ecuación 2\n",
    "coef2_x = widgets.FloatText(value=-1, description='', layout=widgets.Layout(width='80px'))\n",
    "coef2_y = widgets.FloatText(value=-1, description='', layout=widgets.Layout(width='80px'))\n",
    "const2 = widgets.FloatText(value=-10, description='', layout=widgets.Layout(width='80px'))\n",
    "\n",
    "plot_button = widgets.Button(description=\"Graficar\", button_style='primary')\n",
    "solution_output = widgets.Output()\n",
    "\n",
    "# Crear una caja de diseño para los inputs del sistema de ecuaciones\n",
    "eq1_box = widgets.HBox([coef1_x, widgets.Label(value=\"x +\"), coef1_y, widgets.Label(value=\"y =\"), const1])\n",
    "eq2_box = widgets.HBox([coef2_x, widgets.Label(value=\"x +\"), coef2_y, widgets.Label(value=\"y =\"), const2])\n",
    "\n",
    "# Función para graficar las ecuaciones\n",
    "def plot_graph(b=None):  # Agregar un argumento 'b' para manejar el evento del botón\n",
    "    with solution_output:\n",
    "        clear_output(wait=True)  # Limpiar la salida antes de mostrar la nueva gráfica\n",
    "\n",
    "        # Definir las variables simbólicas\n",
    "        x, y = sp.symbols('x y')\n",
    "\n",
    "        # Obtener los valores ingresados por el usuario para cada coeficiente y constante\n",
    "        a1, b1, c1 = coef1_x.value, coef1_y.value, const1.value\n",
    "        a2, b2, c2 = coef2_x.value, coef2_y.value, const2.value\n",
    "\n",
    "        # Crear las ecuaciones simbólicas\n",
    "        eq1 = sp.Eq(a1 * x + b1 * y, c1)\n",
    "        eq2 = sp.Eq(a2 * x + b2 * y, c2)\n",
    "\n",
    "        # Resolver el sistema de ecuaciones\n",
    "        solution = sp.solve([eq1, eq2], (x, y))\n",
    "\n",
    "        # Crear la gráfica\n",
    "        fig, ax = plt.subplots(figsize=(8, 6))\n",
    "        x_vals = np.linspace(-10, 10, 400)\n",
    "\n",
    "        # Graficar la primera ecuación\n",
    "        if b1 != 0:\n",
    "            y_vals_1 = sp.lambdify(x, sp.solve(eq1, y)[0], 'numpy')(x_vals)\n",
    "            ax.plot(x_vals, y_vals_1, label='Línea azul', color='blue')\n",
    "        else:\n",
    "            # Si el coeficiente de y es 0, graficar una línea vertical\n",
    "            x_intercept = sp.solve(eq1, x)[0]\n",
    "            ax.axvline(x=x_intercept, color='blue', label='Línea azul')\n",
    "\n",
    "        # Graficar la segunda ecuación\n",
    "        if b2 != 0:\n",
    "            y_vals_2 = sp.lambdify(x, sp.solve(eq2, y)[0], 'numpy')(x_vals)\n",
    "            ax.plot(x_vals, y_vals_2, label='Línea roja', color='orange')\n",
    "        else:\n",
    "            # Si el coeficiente de y es 0, graficar una línea vertical\n",
    "            x_intercept = sp.solve(eq2, x)[0]\n",
    "            ax.axvline(x=x_intercept, color='orange', label='Línea roja')\n",
    "\n",
    "        # Determinar el tipo de solución\n",
    "        solution_text = \"\"\n",
    "        if a1 * b2 == a2 * b1 and a1 * c2 == a2 * c1 and b1 * c2 == b2 * c1:\n",
    "            # Las ecuaciones son proporcionales (rectas coincidentes)\n",
    "            solution_text = \"Infinitas soluciones (las rectas coinciden)\"\n",
    "        elif a1 * b2 == a2 * b1:\n",
    "            # Las pendientes son iguales pero las rectas no coinciden (paralelas)\n",
    "            solution_text = \"No hay solución (las rectas son paralelas)\"\n",
    "        else:\n",
    "            # Hay una solución única\n",
    "            if isinstance(solution, dict) and len(solution) == 2:\n",
    "                sol_x, sol_y = solution[x], solution[y]\n",
    "                ax.plot(sol_x, sol_y, 'ro', label='Intersección')\n",
    "                solution_text = f\"Solución única: ({sol_x:.2f}, {sol_y:.2f})\"\n",
    "\n",
    "        # Mostrar el texto de la solución\n",
    "        print(solution_text)\n",
    "\n",
    "        # Configuración del gráfico\n",
    "        ax.axhline(0, color='black', lw=0.5)\n",
    "        ax.axvline(0, color='black', lw=0.5)\n",
    "        ax.grid(True, which='both', linestyle='--', linewidth=0.5)\n",
    "        ax.set_xlabel('x')\n",
    "        ax.set_ylabel('y')\n",
    "        ax.legend()\n",
    "\n",
    "        # Ajustar límites automáticamente para ver la intersección claramente\n",
    "        ax.relim()\n",
    "        ax.autoscale_view()\n",
    "\n",
    "        # Mostrar el gráfico\n",
    "        plt.show()\n",
    "\n",
    "# Conectar el botón de graficar con la función\n",
    "plot_button.on_click(plot_graph)\n",
    "\n",
    "# Mostrar los widgets\n",
    "display(eq1_box, eq2_box, plot_button, solution_output)\n",
    "\n"
   ],
   "outputs": [
    {
     "data": {
      "text/plain": [
       "HBox(children=(FloatText(value=2.0, layout=Layout(width='80px')), Label(value='x +'), FloatText(value=-1.0, la…"
      ],
      "application/vnd.jupyter.widget-view+json": {
       "version_major": 2,
       "version_minor": 0,
       "model_id": "4a34aab891844f6383df05c674083400"
      }
     },
     "metadata": {},
     "output_type": "display_data"
    },
    {
     "data": {
      "text/plain": [
       "HBox(children=(FloatText(value=-1.0, layout=Layout(width='80px')), Label(value='x +'), FloatText(value=-1.0, l…"
      ],
      "application/vnd.jupyter.widget-view+json": {
       "version_major": 2,
       "version_minor": 0,
       "model_id": "e1698a9856ef403880ac5bb860d00a34"
      }
     },
     "metadata": {},
     "output_type": "display_data"
    },
    {
     "data": {
      "text/plain": [
       "Button(button_style='primary', description='Graficar', style=ButtonStyle())"
      ],
      "application/vnd.jupyter.widget-view+json": {
       "version_major": 2,
       "version_minor": 0,
       "model_id": "eb773460fb45425e8c40ec405d7a5e66"
      }
     },
     "metadata": {},
     "output_type": "display_data"
    },
    {
     "data": {
      "text/plain": [
       "Output()"
      ],
      "application/vnd.jupyter.widget-view+json": {
       "version_major": 2,
       "version_minor": 0,
       "model_id": "62d7ded5de0243d7bf5f40ae2c4df514"
      }
     },
     "metadata": {},
     "output_type": "display_data"
    }
   ],
   "execution_count": 1
  },
  {
   "metadata": {
    "ExecuteTime": {
     "end_time": "2024-12-02T04:13:58.926556Z",
     "start_time": "2024-12-02T04:13:58.924475Z"
    }
   },
   "cell_type": "code",
   "source": "",
   "id": "af2db143c28ea69d",
   "outputs": [],
   "execution_count": null
  },
  {
   "metadata": {},
   "cell_type": "code",
   "outputs": [],
   "execution_count": null,
   "source": "",
   "id": "124a40d0ae94de5e"
  }
 ],
 "metadata": {
  "kernelspec": {
   "display_name": "Python 3",
   "language": "python",
   "name": "python3"
  },
  "language_info": {
   "codemirror_mode": {
    "name": "ipython",
    "version": 2
   },
   "file_extension": ".py",
   "mimetype": "text/x-python",
   "name": "python",
   "nbconvert_exporter": "python",
   "pygments_lexer": "ipython2",
   "version": "2.7.6"
  }
 },
 "nbformat": 4,
 "nbformat_minor": 5
}
